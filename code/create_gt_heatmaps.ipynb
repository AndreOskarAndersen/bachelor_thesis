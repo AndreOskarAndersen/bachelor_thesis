{
 "metadata": {
  "language_info": {
   "codemirror_mode": {
    "name": "ipython",
    "version": 3
   },
   "file_extension": ".py",
   "mimetype": "text/x-python",
   "name": "python",
   "nbconvert_exporter": "python",
   "pygments_lexer": "ipython3",
   "version": "3.8.2-final"
  },
  "orig_nbformat": 2,
  "kernelspec": {
   "name": "python3",
   "display_name": "Python 3.8.2 64-bit",
   "metadata": {
    "interpreter": {
     "hash": "15b452054a1f37423623dc03587790452578e39807b086c75f037ab8f1c9c424"
    }
   }
  }
 },
 "nbformat": 4,
 "nbformat_minor": 2,
 "cells": [
  {
   "cell_type": "code",
   "execution_count": 2,
   "metadata": {},
   "outputs": [],
   "source": [
    "import os\n",
    "import matplotlib.pyplot as plt\n",
    "import pandas as pd\n",
    "import numpy as np\n",
    "import skimage\n",
    "import skimage.filters\n",
    "import skimage.transform\n",
    "import skimage.draw\n",
    "from tqdm.notebook import tqdm"
   ]
  },
  {
   "cell_type": "code",
   "execution_count": 3,
   "metadata": {},
   "outputs": [],
   "source": [
    "def create_heatmaps(keypoints, input_shape = (256, 256), output_shape = (64, 64)):\n",
    "    \"\"\" GIVEN ONE OF THE ROWS IN THE CSV, CREATES THE 17 CORRESPONDING HEATMAPSS \"\"\"\n",
    "    keypoints = keypoints[1:] # We dont need the ID of the image\n",
    "\n",
    "    x_val = keypoints[::3]\n",
    "    y_val = keypoints[1::3]\n",
    "    v_val = keypoints[2::3]\n",
    "\n",
    "    res_arr = []\n",
    "\n",
    "    for x, y, v in zip(x_val, y_val, v_val):\n",
    "        x, y, v = int(x), int(y), int(v)\n",
    "        res = np.zeros(input_shape)\n",
    "\n",
    "        if (x >= 0 and x <= input_shape[1] and y >= 0 and y <= input_shape[0]):\n",
    "            res[y - 1, x - 1] = 1\n",
    "\n",
    "        res = skimage.transform.resize(res, output_shape)\n",
    "        \n",
    "        if (v == 1):\n",
    "            res = skimage.filters.gaussian(res, sigma = 1)\n",
    "        elif (v == 2):\n",
    "            res = skimage.filters.gaussian(res, sigma = 0.5)\n",
    "\n",
    "        res_arr.append(res)\n",
    "\n",
    "    return res_arr"
   ]
  },
  {
   "cell_type": "code",
   "execution_count": 4,
   "metadata": {},
   "outputs": [],
   "source": [
    "TRAIN_LABELS_PATH = \"D:/bsc_data/train/outputs.txt\"\n",
    "\n",
    "HEADER = [\"ID\"]\n",
    "for i in range(17):\n",
    "    HEADER.append(\"x{}\".format(i))\n",
    "    HEADER.append(\"y{}\".format(i))\n",
    "    HEADER.append(\"v{}\".format(i))\n",
    "\n",
    "train_labels = pd.read_csv(TRAIN_LABELS_PATH, delimiter = \",\", names = HEADER)\n"
   ]
  },
  {
   "cell_type": "code",
   "execution_count": 5,
   "metadata": {},
   "outputs": [
    {
     "output_type": "display_data",
     "data": {
      "text/plain": "HBox(children=(FloatProgress(value=0.0, description='ROW', max=118304.0, style=ProgressStyle(description_width…",
      "application/vnd.jupyter.widget-view+json": {
       "version_major": 2,
       "version_minor": 0,
       "model_id": "fcefb5db3e7f43aabdde216868a28008"
      }
     },
     "metadata": {}
    },
    {
     "output_type": "stream",
     "name": "stdout",
     "text": [
      "\n"
     ]
    }
   ],
   "source": [
    "for index, row in tqdm(train_labels.iterrows(), desc = \"ROW\", total = train_labels.shape[0]):\n",
    "    heatmaps = create_heatmaps(row.values)\n",
    "\n",
    "    os.mkdir(\"D:/bsc_data/train/heatmaps/\" + row[\"ID\"])\n",
    "\n",
    "    for i, heatmap in enumerate(heatmaps):\n",
    "        plt.imsave(\"D:/bsc_data/train/heatmaps/\" + row[\"ID\"] + \"/\" + str(i) + \".png\", heatmap)"
   ]
  },
  {
   "cell_type": "code",
   "execution_count": null,
   "metadata": {},
   "outputs": [],
   "source": []
  }
 ]
}