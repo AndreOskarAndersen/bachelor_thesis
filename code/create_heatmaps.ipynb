{
 "metadata": {
  "language_info": {
   "codemirror_mode": {
    "name": "ipython",
    "version": 3
   },
   "file_extension": ".py",
   "mimetype": "text/x-python",
   "name": "python",
   "nbconvert_exporter": "python",
   "pygments_lexer": "ipython3",
   "version": "3.8.2"
  },
  "orig_nbformat": 2,
  "kernelspec": {
   "name": "python382jvsc74a57bd015b452054a1f37423623dc03587790452578e39807b086c75f037ab8f1c9c424",
   "display_name": "Python 3.8.2 64-bit"
  }
 },
 "nbformat": 4,
 "nbformat_minor": 2,
 "cells": [
  {
   "cell_type": "code",
   "execution_count": 1,
   "metadata": {},
   "outputs": [],
   "source": [
    "import numpy as np\n",
    "import pandas as pd\n",
    "import os\n",
    "from tqdm.notebook import tqdm\n",
    "from utils import *"
   ]
  },
  {
   "cell_type": "code",
   "execution_count": 2,
   "metadata": {},
   "outputs": [
    {
     "output_type": "display_data",
     "data": {
      "text/plain": "HBox(children=(FloatProgress(value=0.0, max=124040.0), HTML(value='')))",
      "application/vnd.jupyter.widget-view+json": {
       "version_major": 2,
       "version_minor": 0,
       "model_id": "bc8d601a7d7f4828afe72c84509e915c"
      }
     },
     "metadata": {}
    },
    {
     "output_type": "stream",
     "name": "stdout",
     "text": [
      "\n"
     ]
    }
   ],
   "source": [
    "TRAIN_LABELS_PATH = \"C:/Users/André/OneDrive 2/OneDrive/Skrivebord/bsc_data/train/outputs.txt\"\n",
    "TRAIN_SAVING_LABELS_PATH = \"C:/Users/André/OneDrive 2/OneDrive/Skrivebord/bsc_data/train/heatmaps/\"\n",
    "TRAIN_EXTRA_HEATMAPS = \"D:/bsc_extra_data/output.txt\"\n",
    "HEADER = [\"ID\"]\n",
    "for i in range(17):\n",
    "    HEADER.append(\"x{}\".format(i))\n",
    "    HEADER.append(\"y{}\".format(i))\n",
    "    HEADER.append(\"v{}\".format(i))\n",
    "\n",
    "train_labels = pd.read_csv(TRAIN_LABELS_PATH, delimiter = \",\", names = HEADER)\n",
    "train_extra_labels = pd.read_csv(TRAIN_EXTRA_HEATMAPS, delimiter = \",\", index_col=None, header = None).T\n",
    "train_extra_labels.columns = HEADER\n",
    "concat = pd.concat([train_labels, train_extra_labels], names = HEADER)\n",
    "\n",
    "ids = concat[\"ID\"].values\n",
    "for name in tqdm(ids):\n",
    "    HEATMAPS_DIR = TRAIN_SAVING_LABELS_PATH + name + \"/\"\n",
    "    os.mkdir(HEATMAPS_DIR)\n",
    "    heatmaps = create_heatmaps(concat.loc[concat[\"ID\"] == name].to_numpy())\n",
    "    for i, heatmap in enumerate(heatmaps):\n",
    "        #np.save(HEATMAPS_DIR + str(i) + \".npy\", heatmap)\n",
    "        pass"
   ]
  },
  {
   "cell_type": "code",
   "execution_count": 3,
   "metadata": {},
   "outputs": [],
   "source": [
    "VAL_LABELS_PATH = \"C:/Users/André/OneDrive 2/OneDrive/Skrivebord/bsc_data/validation/outputs.txt\"\n",
    "VAL_SAVING_LABELS_PATH = \"C:/Users/André/OneDrive 2/OneDrive/Skrivebord/bsc_data/validation/heatmaps/\"\n",
    "HEADER = [\"ID\"]\n",
    "for i in range(17):\n",
    "    HEADER.append(\"x{}\".format(i))\n",
    "    HEADER.append(\"y{}\".format(i))\n",
    "    HEADER.append(\"v{}\".format(i))\n",
    "val_labels = pd.read_csv(VAL_LABELS_PATH, delimiter = \",\", names = HEADER)\n",
    "\n",
    "ids = val_labels[\"ID\"].values\n",
    "\n",
    "for name in tqdm(ids):\n",
    "    HEATMAPS_DIR = VAL_SAVING_LABELS_PATH + name + \"/\"\n",
    "    os.mkdir(HEATMAPS_DIR)\n",
    "    heatmaps = create_heatmaps(val_labels.loc[val_labels[\"ID\"] == name].to_numpy())\n",
    "    for i, heatmap in enumerate(heatmaps):\n",
    "        #np.save(HEATMAPS_DIR + str(i) + \".npy\", heatmap)\n",
    "        pass"
   ]
  },
  {
   "cell_type": "code",
   "execution_count": 8,
   "metadata": {
    "tags": []
   },
   "outputs": [
    {
     "output_type": "display_data",
     "data": {
      "text/plain": "HBox(children=(FloatProgress(value=0.0, max=5064.0), HTML(value='')))",
      "application/vnd.jupyter.widget-view+json": {
       "version_major": 2,
       "version_minor": 0,
       "model_id": "6f959dc541764fe5a788990848359662"
      }
     },
     "metadata": {}
    },
    {
     "output_type": "stream",
     "name": "stdout",
     "text": [
      "\n"
     ]
    }
   ],
   "source": [
    "TEST_LABELS_PATH = \"C:/Users/André/OneDrive 2/OneDrive/Skrivebord/bsc_data/test/outputs.txt\"\n",
    "TEST_SAVING_LABELS_PATH = \"C:/Users/André/OneDrive 2/OneDrive/Skrivebord/bsc_data/test/heatmaps/\"\n",
    "HEADER = [\"ID\"]\n",
    "for i in range(17):\n",
    "    HEADER.append(\"x{}\".format(i))\n",
    "    HEADER.append(\"y{}\".format(i))\n",
    "    HEADER.append(\"v{}\".format(i))\n",
    "test_labels = pd.read_csv(TEST_LABELS_PATH, delimiter = \",\", names = HEADER)\n",
    "\n",
    "ids = test_labels[\"ID\"].values\n",
    "\n",
    "for name in tqdm(ids):\n",
    "    HEATMAPS_DIR = TEST_SAVING_LABELS_PATH + name + \"/\"\n",
    "    os.mkdir(HEATMAPS_DIR)\n",
    "    heatmaps = create_heatmaps(test_labels.loc[test_labels[\"ID\"] == name].to_numpy(), is_csv_row = True)\n",
    "    for i, heatmap in enumerate(heatmaps):\n",
    "        np.save(HEATMAPS_DIR + str(i) + \".npy\", heatmap)    "
   ]
  },
  {
   "cell_type": "code",
   "execution_count": null,
   "metadata": {},
   "outputs": [],
   "source": []
  }
 ]
}