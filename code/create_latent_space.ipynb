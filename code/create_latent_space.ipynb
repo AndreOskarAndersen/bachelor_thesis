{
 "metadata": {
  "language_info": {
   "codemirror_mode": {
    "name": "ipython",
    "version": 3
   },
   "file_extension": ".py",
   "mimetype": "text/x-python",
   "name": "python",
   "nbconvert_exporter": "python",
   "pygments_lexer": "ipython3",
   "version": "3.8.2"
  },
  "orig_nbformat": 2,
  "kernelspec": {
   "name": "python382jvsc74a57bd015b452054a1f37423623dc03587790452578e39807b086c75f037ab8f1c9c424",
   "display_name": "Python 3.8.2 64-bit"
  }
 },
 "nbformat": 4,
 "nbformat_minor": 2,
 "cells": [
  {
   "cell_type": "code",
   "execution_count": 1,
   "metadata": {},
   "outputs": [],
   "source": [
    "import numpy as np\n",
    "import torch\n",
    "import torch.nn as nn\n",
    "import torch.nn.functional as F\n",
    "import torch.cuda\n",
    "import torch.optim as optim\n",
    "import torchvision.transforms.functional as TF\n",
    "import torchvision.transforms as transforms\n",
    "import os\n",
    "from PIL import Image\n",
    "from tqdm.notebook import tqdm\n",
    "from torch.nn.functional import relu\n",
    "from torch.utils.data import DataLoader, Dataset\n",
    "from SHG import SHG\n",
    "from utils import *"
   ]
  },
  {
   "cell_type": "code",
   "execution_count": 9,
   "metadata": {},
   "outputs": [],
   "source": [
    "\"\"\" PATHS \"\"\"\n",
    "MODEL_PATH = \"C:/Users/André/OneDrive 2/OneDrive/Skrivebord/bsc_data/models/Mon_Apr_12_18-11-59_2021/epoch_46.pth\"\n",
    "AVERAGE_RGB_PATH = \"C:/Users/André/OneDrive 2/OneDrive/Skrivebord/bachelor_thesis/code/average_rgb.npy\"\n",
    "\n",
    "TRAIN_INPUT_PATH = \"C:/Users/André/OneDrive 2/OneDrive/Skrivebord/bsc_data/train/image/\"\n",
    "\n",
    "VAL_INPUT_PATH = \"C:/Users/André/OneDrive 2/OneDrive/Skrivebord/bsc_data/validation/image/\"\n",
    "VAL_OUTPUT_PATH = \"C:/Users/André/OneDrive 2/OneDrive/Skrivebord/bsc_data/validation/heatmaps/\"\n",
    "\n",
    "SAVING_PATH_VAL = \"C:/Users/André/OneDrive 2/OneDrive/Skrivebord/bsc_data/latent_space_data/val_full_skeleton/\"\n",
    "SAVING_PATH_TRAIN_ALL = \"C:/Users/André/OneDrive 2/OneDrive/Skrivebord/bsc_data/latent_space_data/train_all/\"\n",
    "SAVING_PATH_VAL_ALL = \"C:/Users/André/OneDrive 2/OneDrive/Skrivebord/bsc_data/latent_space_data/val_all/\""
   ]
  },
  {
   "cell_type": "code",
   "execution_count": 3,
   "metadata": {},
   "outputs": [
    {
     "output_type": "execute_result",
     "data": {
      "text/plain": [
       "<All keys matched successfully>"
      ]
     },
     "metadata": {},
     "execution_count": 3
    }
   ],
   "source": [
    "\"\"\" LOADING \"\"\"\n",
    "average_rgb = np.loadtxt(AVERAGE_RGB_PATH)\n",
    "\n",
    "device = torch.device(\"cuda\" if torch.cuda.is_available() else \"cpu\")\n",
    "\n",
    "model = SHG(num_hourglasses=1).to(device)\n",
    "model.load_state_dict(torch.load(MODEL_PATH))"
   ]
  },
  {
   "cell_type": "code",
   "execution_count": 11,
   "metadata": {},
   "outputs": [],
   "source": [
    "\"\"\" Dataset and dataloader \"\"\"\n",
    "class dataset_full(Dataset):\n",
    "    def __init__(self, X_path, y_path, average_rgb):\n",
    "        self.X_path = X_path\n",
    "        self.y_path = y_path\n",
    "        self.X_data = os.listdir(self.X_path)\n",
    "        self.average_rgb = average_rgb\n",
    "        self.norm = transforms.Normalize(mean = self.average_rgb, std = [1, 1, 1])\n",
    "\n",
    "    def __len__(self):\n",
    "        return len(self.X_data)\n",
    "\n",
    "    def __getitem__(self, i):\n",
    "        ID = self.X_data[i]\n",
    "        x = Image.open(self.X_path + ID)\n",
    "\n",
    "        y = []\n",
    "\n",
    "        for i in range(17):\n",
    "            y.append(torch.from_numpy(np.load(self.y_path + ID[:-4] + \"/\" + str(i) + \".npy\")))\n",
    "\n",
    "        x = TF.to_tensor(x)\n",
    "\n",
    "        if (x.shape[0] == 1): # If the image is gray-scale, cast it to rgb\n",
    "            x = torch.stack((x[0],) * 3)\n",
    "\n",
    "        x = self.norm(x) # Subtracts mean rgb\n",
    "\n",
    "        y = torch.stack(y)\n",
    "        return x, y, ID\n",
    "\n",
    "val_dataset = dataset_full(VAL_INPUT_PATH, VAL_OUTPUT_PATH, average_rgb)\n",
    "val_dataloader = DataLoader(val_dataset)\n",
    "\n",
    "\n",
    "class dataset_all(Dataset):\n",
    "    def __init__(self, X_path, average_rgb):\n",
    "        self.X_path = X_path\n",
    "        self.X_data = os.listdir(self.X_path)\n",
    "        self.average_rgb = average_rgb\n",
    "        self.norm = transforms.Normalize(mean = self.average_rgb, std = [1, 1, 1])\n",
    "\n",
    "    def __len__(self):\n",
    "        return len(self.X_data)\n",
    "\n",
    "    def __getitem__(self, i):\n",
    "        ID = self.X_data[i]\n",
    "        x = Image.open(self.X_path + ID)\n",
    "\n",
    "        x = TF.to_tensor(x)\n",
    "\n",
    "        if (x.shape[0] == 1): # If the image is gray-scale, cast it to rgb\n",
    "            x = torch.stack((x[0],) * 3)\n",
    "\n",
    "        x = self.norm(x) # Subtracts mean rgb\n",
    "\n",
    "        return x, ID\n",
    "\n",
    "train_dataset = dataset_all(TRAIN_INPUT_PATH, average_rgb)\n",
    "train_dataloader = DataLoader(train_dataset)\n",
    "\n",
    "val_dataset_all = dataset_all(VAL_INPUT_PATH, average_rgb)\n",
    "val_dataloader_all = DataLoader(val_dataset_all)"
   ]
  },
  {
   "cell_type": "code",
   "execution_count": null,
   "metadata": {},
   "outputs": [],
   "source": [
    "\"\"\" Creating validation data of full skeletons \"\"\"\n",
    "model.eval()\n",
    "with torch.no_grad():\n",
    "    for x, y_heatmaps, ID in tqdm(val_dataloader, total = len(val_dataloader)):\n",
    "        ID = ID[0][:-4]\n",
    "        x = x.to(device, dtype = torch.float)\n",
    "        y_kp = turn_featuremaps_to_keypoints(y_heatmaps)\n",
    "        y_kp = np.array(y_kp).reshape((-1, 3))\n",
    "\n",
    "        if (0 not in y_kp[:, -1]):\n",
    "            _, bottleneck = model(x)\n",
    "            bottleneck = bottleneck[-1][0]\n",
    "            bottleneck = bottleneck.cpu().data.numpy()\n",
    "            np.save(SAVING_PATH_VAL + ID + \".npy\", bottleneck)"
   ]
  },
  {
   "cell_type": "code",
   "execution_count": 7,
   "metadata": {},
   "outputs": [
    {
     "output_type": "display_data",
     "data": {
      "text/plain": "HBox(children=(FloatProgress(value=0.0, max=124040.0), HTML(value='')))",
      "application/vnd.jupyter.widget-view+json": {
       "version_major": 2,
       "version_minor": 0,
       "model_id": "ca13a803bb294869a1dafd4bf576cd9f"
      }
     },
     "metadata": {}
    },
    {
     "output_type": "stream",
     "name": "stdout",
     "text": [
      "\n"
     ]
    }
   ],
   "source": [
    "\"\"\" Creating train data of all skeletons \"\"\"\n",
    "model.eval()\n",
    "with torch.no_grad():\n",
    "    for x, ID in tqdm(train_dataloader, total = len(train_dataloader)):\n",
    "        ID = ID[0][:-4]\n",
    "        x = x.to(device, dtype = torch.float)\n",
    "\n",
    "        _, bottleneck = model(x)\n",
    "        bottleneck = bottleneck[-1][0]\n",
    "        bottleneck = bottleneck.cpu().data.numpy()\n",
    "        np.save(SAVING_PATH_TRAIN_ALL + ID + \".npy\", bottleneck)"
   ]
  },
  {
   "cell_type": "code",
   "execution_count": 12,
   "metadata": {},
   "outputs": [
    {
     "output_type": "display_data",
     "data": {
      "text/plain": "HBox(children=(FloatProgress(value=0.0, max=5064.0), HTML(value='')))",
      "application/vnd.jupyter.widget-view+json": {
       "version_major": 2,
       "version_minor": 0,
       "model_id": "d3436e5ce8514c5aa79e640ac4cf870c"
      }
     },
     "metadata": {}
    },
    {
     "output_type": "stream",
     "name": "stdout",
     "text": [
      "\n"
     ]
    }
   ],
   "source": [
    "\"\"\" Creating val data of all skeletons \"\"\"\n",
    "model.eval()\n",
    "with torch.no_grad():\n",
    "    for x, ID in tqdm(val_dataloader_all, total = len(val_dataloader_all)):\n",
    "        ID = ID[0][:-4]\n",
    "        x = x.to(device, dtype = torch.float)\n",
    "\n",
    "        _, bottleneck = model(x)\n",
    "        bottleneck = bottleneck[-1][0]\n",
    "        bottleneck = bottleneck.cpu().data.numpy()\n",
    "        np.save(SAVING_PATH_VAL_ALL + ID + \".npy\", bottleneck)"
   ]
  },
  {
   "cell_type": "code",
   "execution_count": null,
   "metadata": {},
   "outputs": [],
   "source": []
  }
 ]
}