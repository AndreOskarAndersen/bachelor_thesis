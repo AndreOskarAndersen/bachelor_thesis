{
 "metadata": {
  "language_info": {
   "codemirror_mode": {
    "name": "ipython",
    "version": 3
   },
   "file_extension": ".py",
   "mimetype": "text/x-python",
   "name": "python",
   "nbconvert_exporter": "python",
   "pygments_lexer": "ipython3",
   "version": "3.8.2-final"
  },
  "orig_nbformat": 2,
  "kernelspec": {
   "name": "python3",
   "display_name": "Python 3.8.2 64-bit",
   "metadata": {
    "interpreter": {
     "hash": "15b452054a1f37423623dc03587790452578e39807b086c75f037ab8f1c9c424"
    }
   }
  }
 },
 "nbformat": 4,
 "nbformat_minor": 2,
 "cells": [
  {
   "cell_type": "code",
   "execution_count": 7,
   "metadata": {},
   "outputs": [],
   "source": [
    "import numpy as np\n",
    "import pandas as pd\n",
    "import matplotlib.pyplot as plt\n",
    "import os\n",
    "import skimage\n",
    "import skimage.transform\n",
    "import skimage.filters\n",
    "import torch\n",
    "import torch.nn as nn\n",
    "import torch.nn.functional as F\n",
    "import torch.cuda\n",
    "import torch.optim as optim\n",
    "from tqdm.notebook import tqdm\n",
    "from torch.nn.functional import relu\n",
    "from tqdm.notebook import tqdm\n",
    "from SHG import SHG\n",
    "from utils import *"
   ]
  },
  {
   "cell_type": "code",
   "execution_count": 8,
   "metadata": {},
   "outputs": [],
   "source": [
    "TRAIN_LABELS_PATH = \"D:/bsc_data/train/outputs.txt\"\n",
    "TEST_LABELS_PATH = \"D:/bsc_data/test/outputs.txt\"\n",
    "VAL_LABELS_PATH = \"D:/bsc_data/validation/outputs.txt\"\n",
    "\n",
    "HEADER = [\"ID\"]\n",
    "for i in range(17):\n",
    "    HEADER.append(\"x{}\".format(i))\n",
    "    HEADER.append(\"y{}\".format(i))\n",
    "    HEADER.append(\"v{}\".format(i))\n",
    "\n",
    "train_labels = pd.read_csv(TRAIN_LABELS_PATH, delimiter = \",\", names = HEADER)\n",
    "test_labels = pd.read_csv(TEST_LABELS_PATH, delimiter = \",\", names = HEADER)\n",
    "val_labels = pd.read_csv(VAL_LABELS_PATH, delimiter = \",\", names = HEADER).T\n",
    "\n",
    "TRAIN_IMGS_PATH = \"D:/bsc_data/train/image/\"\n",
    "TEST_IMGS_PATH = \"D:/bsc_data/test/image/\"\n",
    "VAL_IMGS_PATH = \"D:/bsc_data/validation/image/\"\n",
    "\n",
    "train_imgs = os.listdir(TRAIN_IMGS_PATH)\n",
    "test_imgs = os.listdir(TEST_IMGS_PATH)\n",
    "val_imgs = os.listdir(VAL_IMGS_PATH)"
   ]
  },
  {
   "cell_type": "code",
   "execution_count": 9,
   "metadata": {},
   "outputs": [],
   "source": [
    "LEARNING_RATE = 2.5e-4\n",
    "NUM_EPOCHS = 100\n",
    "MINI_BATCH_SIZE = 16\n",
    "MINI_BATCHES = np.array_split(train_imgs, len(train_imgs)/MINI_BATCH_SIZE)\n",
    "\n",
    "device = torch.device(\"cuda\" if torch.cuda.is_available() else \"cpu\")\n",
    "\n",
    "model = SHG(num_hourglasses=1).to(device)\n",
    "\n",
    "criterion = nn.MSELoss()\n",
    "optimizer = optim.RMSprop(model.parameters(), lr = LEARNING_RATE)"
   ]
  },
  {
   "cell_type": "code",
   "execution_count": 10,
   "metadata": {
    "tags": []
   },
   "outputs": [
    {
     "output_type": "display_data",
     "data": {
      "text/plain": "HBox(children=(FloatProgress(value=0.0, description='EPOCH', style=ProgressStyle(description_width='initial'))…",
      "application/vnd.jupyter.widget-view+json": {
       "version_major": 2,
       "version_minor": 0,
       "model_id": "f774418d11714697be34223467f631f3"
      }
     },
     "metadata": {}
    },
    {
     "output_type": "display_data",
     "data": {
      "text/plain": "HBox(children=(FloatProgress(value=0.0, description='MINI BATCH', max=7394.0, style=ProgressStyle(description_…",
      "application/vnd.jupyter.widget-view+json": {
       "version_major": 2,
       "version_minor": 0,
       "model_id": "3055083a11004420907516ab2d88bc6a"
      }
     },
     "metadata": {}
    },
    {
     "output_type": "stream",
     "name": "stdout",
     "text": [
      "tensor(0.0040, device='cuda:0', grad_fn=<MseLossBackward>)\n",
      "tensor(0.9608, device='cuda:0', grad_fn=<MseLossBackward>)\n",
      "tensor(2.6314e+10, device='cuda:0', grad_fn=<MseLossBackward>)\n",
      "tensor(1.2141e+13, device='cuda:0', grad_fn=<MseLossBackward>)\n",
      "tensor(1.5456e+12, device='cuda:0', grad_fn=<MseLossBackward>)\n",
      "tensor(1.9761e+11, device='cuda:0', grad_fn=<MseLossBackward>)\n",
      "tensor(4.1159e+12, device='cuda:0', grad_fn=<MseLossBackward>)\n",
      "tensor(2.9717e+10, device='cuda:0', grad_fn=<MseLossBackward>)\n",
      "tensor(1.1819e+10, device='cuda:0', grad_fn=<MseLossBackward>)\n",
      "tensor(5.5364e+09, device='cuda:0', grad_fn=<MseLossBackward>)\n",
      "tensor(3.3272e+09, device='cuda:0', grad_fn=<MseLossBackward>)\n",
      "tensor(2.0308e+09, device='cuda:0', grad_fn=<MseLossBackward>)\n",
      "tensor(1.8640e+09, device='cuda:0', grad_fn=<MseLossBackward>)\n",
      "tensor(1.6211e+09, device='cuda:0', grad_fn=<MseLossBackward>)\n",
      "tensor(1.6228e+09, device='cuda:0', grad_fn=<MseLossBackward>)\n",
      "tensor(1.0523e+09, device='cuda:0', grad_fn=<MseLossBackward>)\n",
      "tensor(8.4263e+08, device='cuda:0', grad_fn=<MseLossBackward>)\n",
      "tensor(7.9692e+08, device='cuda:0', grad_fn=<MseLossBackward>)\n",
      "tensor(5.9411e+08, device='cuda:0', grad_fn=<MseLossBackward>)\n",
      "tensor(4.3105e+08, device='cuda:0', grad_fn=<MseLossBackward>)\n",
      "tensor(3.6257e+08, device='cuda:0', grad_fn=<MseLossBackward>)\n",
      "tensor(3.6818e+08, device='cuda:0', grad_fn=<MseLossBackward>)\n",
      "tensor(2.7196e+08, device='cuda:0', grad_fn=<MseLossBackward>)\n",
      "tensor(2.5577e+08, device='cuda:0', grad_fn=<MseLossBackward>)\n",
      "tensor(2.2755e+08, device='cuda:0', grad_fn=<MseLossBackward>)\n",
      "tensor(1.7948e+08, device='cuda:0', grad_fn=<MseLossBackward>)\n",
      "tensor(1.4564e+08, device='cuda:0', grad_fn=<MseLossBackward>)\n",
      "tensor(1.1312e+08, device='cuda:0', grad_fn=<MseLossBackward>)\n",
      "tensor(1.0815e+08, device='cuda:0', grad_fn=<MseLossBackward>)\n",
      "tensor(95929688., device='cuda:0', grad_fn=<MseLossBackward>)\n",
      "tensor(71033120., device='cuda:0', grad_fn=<MseLossBackward>)\n",
      "tensor(59068912., device='cuda:0', grad_fn=<MseLossBackward>)\n",
      "tensor(48767016., device='cuda:0', grad_fn=<MseLossBackward>)\n",
      "tensor(41564212., device='cuda:0', grad_fn=<MseLossBackward>)\n",
      "tensor(28990634., device='cuda:0', grad_fn=<MseLossBackward>)\n",
      "tensor(22807500., device='cuda:0', grad_fn=<MseLossBackward>)\n",
      "tensor(14053534., device='cuda:0', grad_fn=<MseLossBackward>)\n",
      "tensor(6739653.5000, device='cuda:0', grad_fn=<MseLossBackward>)\n",
      "tensor(6999200., device='cuda:0', grad_fn=<MseLossBackward>)\n",
      "tensor(3813628., device='cuda:0', grad_fn=<MseLossBackward>)\n",
      "tensor(6199386.5000, device='cuda:0', grad_fn=<MseLossBackward>)\n",
      "tensor(5551701., device='cuda:0', grad_fn=<MseLossBackward>)\n",
      "tensor(7689971.5000, device='cuda:0', grad_fn=<MseLossBackward>)\n",
      "tensor(5741106., device='cuda:0', grad_fn=<MseLossBackward>)\n",
      "tensor(6423969., device='cuda:0', grad_fn=<MseLossBackward>)\n",
      "tensor(37692144., device='cuda:0', grad_fn=<MseLossBackward>)\n",
      "tensor(28246190., device='cuda:0', grad_fn=<MseLossBackward>)\n",
      "tensor(19850944., device='cuda:0', grad_fn=<MseLossBackward>)\n",
      "tensor(16263548., device='cuda:0', grad_fn=<MseLossBackward>)\n",
      "tensor(10658711., device='cuda:0', grad_fn=<MseLossBackward>)\n",
      "\n"
     ]
    },
    {
     "output_type": "error",
     "ename": "KeyboardInterrupt",
     "evalue": "",
     "traceback": [
      "\u001b[1;31m---------------------------------------------------------------------------\u001b[0m",
      "\u001b[1;31mKeyboardInterrupt\u001b[0m                         Traceback (most recent call last)",
      "\u001b[1;32m<ipython-input-10-c7d771e33589>\u001b[0m in \u001b[0;36m<module>\u001b[1;34m\u001b[0m\n\u001b[0;32m      9\u001b[0m \u001b[1;33m\u001b[0m\u001b[0m\n\u001b[0;32m     10\u001b[0m         \u001b[1;32mfor\u001b[0m \u001b[0mimg_name\u001b[0m \u001b[1;32min\u001b[0m \u001b[0mmini_batch\u001b[0m\u001b[1;33m:\u001b[0m\u001b[1;33m\u001b[0m\u001b[1;33m\u001b[0m\u001b[0m\n\u001b[1;32m---> 11\u001b[1;33m             \u001b[0mheatmaps\u001b[0m\u001b[1;33m.\u001b[0m\u001b[0mappend\u001b[0m\u001b[1;33m(\u001b[0m\u001b[0mcreate_heatmaps\u001b[0m\u001b[1;33m(\u001b[0m\u001b[0mtrain_labels\u001b[0m\u001b[1;33m.\u001b[0m\u001b[0mloc\u001b[0m\u001b[1;33m[\u001b[0m\u001b[0mtrain_labels\u001b[0m\u001b[1;33m[\u001b[0m\u001b[1;34m\"ID\"\u001b[0m\u001b[1;33m]\u001b[0m \u001b[1;33m==\u001b[0m \u001b[0mimg_name\u001b[0m\u001b[1;33m[\u001b[0m\u001b[1;33m:\u001b[0m\u001b[1;33m-\u001b[0m\u001b[1;36m4\u001b[0m\u001b[1;33m]\u001b[0m\u001b[1;33m]\u001b[0m\u001b[1;33m.\u001b[0m\u001b[0mto_numpy\u001b[0m\u001b[1;33m(\u001b[0m\u001b[1;33m)\u001b[0m\u001b[1;33m)\u001b[0m\u001b[1;33m)\u001b[0m\u001b[1;33m\u001b[0m\u001b[1;33m\u001b[0m\u001b[0m\n\u001b[0m\u001b[0;32m     12\u001b[0m             \u001b[0mimg\u001b[0m \u001b[1;33m=\u001b[0m \u001b[0mplt\u001b[0m\u001b[1;33m.\u001b[0m\u001b[0mimread\u001b[0m\u001b[1;33m(\u001b[0m\u001b[0mTRAIN_IMGS_PATH\u001b[0m \u001b[1;33m+\u001b[0m \u001b[0mimg_name\u001b[0m\u001b[1;33m)\u001b[0m\u001b[1;33m\u001b[0m\u001b[1;33m\u001b[0m\u001b[0m\n\u001b[0;32m     13\u001b[0m \u001b[1;33m\u001b[0m\u001b[0m\n",
      "\u001b[1;32mc:\\Users\\André\\Onedrive 2\\OneDrive\\Skrivebord\\bachelor_thesis\\code\\utils.py\u001b[0m in \u001b[0;36mcreate_heatmaps\u001b[1;34m(keypoints, input_shape, output_shape)\u001b[0m\n\u001b[0;32m     27\u001b[0m             \u001b[0mres\u001b[0m \u001b[1;33m=\u001b[0m \u001b[0mskimage\u001b[0m\u001b[1;33m.\u001b[0m\u001b[0mfilters\u001b[0m\u001b[1;33m.\u001b[0m\u001b[0mgaussian\u001b[0m\u001b[1;33m(\u001b[0m\u001b[0mres\u001b[0m\u001b[1;33m,\u001b[0m \u001b[0msigma\u001b[0m \u001b[1;33m=\u001b[0m \u001b[1;36m1\u001b[0m\u001b[1;33m)\u001b[0m\u001b[1;33m\u001b[0m\u001b[1;33m\u001b[0m\u001b[0m\n\u001b[0;32m     28\u001b[0m         \u001b[1;32melif\u001b[0m \u001b[1;33m(\u001b[0m\u001b[0mv\u001b[0m \u001b[1;33m==\u001b[0m \u001b[1;36m2\u001b[0m\u001b[1;33m)\u001b[0m\u001b[1;33m:\u001b[0m\u001b[1;33m\u001b[0m\u001b[1;33m\u001b[0m\u001b[0m\n\u001b[1;32m---> 29\u001b[1;33m             \u001b[0mres\u001b[0m \u001b[1;33m=\u001b[0m \u001b[0mskimage\u001b[0m\u001b[1;33m.\u001b[0m\u001b[0mfilters\u001b[0m\u001b[1;33m.\u001b[0m\u001b[0mgaussian\u001b[0m\u001b[1;33m(\u001b[0m\u001b[0mres\u001b[0m\u001b[1;33m,\u001b[0m \u001b[0msigma\u001b[0m \u001b[1;33m=\u001b[0m \u001b[1;36m0.5\u001b[0m\u001b[1;33m)\u001b[0m\u001b[1;33m\u001b[0m\u001b[1;33m\u001b[0m\u001b[0m\n\u001b[0m\u001b[0;32m     30\u001b[0m \u001b[1;33m\u001b[0m\u001b[0m\n\u001b[0;32m     31\u001b[0m         \u001b[0mres_arr\u001b[0m\u001b[1;33m.\u001b[0m\u001b[0mappend\u001b[0m\u001b[1;33m(\u001b[0m\u001b[0mres\u001b[0m\u001b[1;33m)\u001b[0m\u001b[1;33m\u001b[0m\u001b[1;33m\u001b[0m\u001b[0m\n",
      "\u001b[1;32m~\\AppData\\Local\\Programs\\Python\\Python38\\lib\\site-packages\\skimage\\filters\\_gaussian.py\u001b[0m in \u001b[0;36mgaussian\u001b[1;34m(image, sigma, output, mode, cval, multichannel, preserve_range, truncate)\u001b[0m\n\u001b[0;32m    122\u001b[0m     \u001b[1;32melif\u001b[0m \u001b[1;32mnot\u001b[0m \u001b[0mnp\u001b[0m\u001b[1;33m.\u001b[0m\u001b[0missubdtype\u001b[0m\u001b[1;33m(\u001b[0m\u001b[0moutput\u001b[0m\u001b[1;33m.\u001b[0m\u001b[0mdtype\u001b[0m\u001b[1;33m,\u001b[0m \u001b[0mnp\u001b[0m\u001b[1;33m.\u001b[0m\u001b[0mfloating\u001b[0m\u001b[1;33m)\u001b[0m\u001b[1;33m:\u001b[0m\u001b[1;33m\u001b[0m\u001b[1;33m\u001b[0m\u001b[0m\n\u001b[0;32m    123\u001b[0m         \u001b[1;32mraise\u001b[0m \u001b[0mValueError\u001b[0m\u001b[1;33m(\u001b[0m\u001b[1;34m\"Provided output data type is not float\"\u001b[0m\u001b[1;33m)\u001b[0m\u001b[1;33m\u001b[0m\u001b[1;33m\u001b[0m\u001b[0m\n\u001b[1;32m--> 124\u001b[1;33m     ndi.gaussian_filter(image, sigma, output=output, mode=mode, cval=cval,\n\u001b[0m\u001b[0;32m    125\u001b[0m                         truncate=truncate)\n\u001b[0;32m    126\u001b[0m     \u001b[1;32mreturn\u001b[0m \u001b[0moutput\u001b[0m\u001b[1;33m\u001b[0m\u001b[1;33m\u001b[0m\u001b[0m\n",
      "\u001b[1;32m~\\AppData\\Local\\Programs\\Python\\Python38\\lib\\site-packages\\scipy\\ndimage\\filters.py\u001b[0m in \u001b[0;36mgaussian_filter\u001b[1;34m(input, sigma, order, output, mode, cval, truncate)\u001b[0m\n\u001b[0;32m    296\u001b[0m     \u001b[1;32mif\u001b[0m \u001b[0mlen\u001b[0m\u001b[1;33m(\u001b[0m\u001b[0maxes\u001b[0m\u001b[1;33m)\u001b[0m \u001b[1;33m>\u001b[0m \u001b[1;36m0\u001b[0m\u001b[1;33m:\u001b[0m\u001b[1;33m\u001b[0m\u001b[1;33m\u001b[0m\u001b[0m\n\u001b[0;32m    297\u001b[0m         \u001b[1;32mfor\u001b[0m \u001b[0maxis\u001b[0m\u001b[1;33m,\u001b[0m \u001b[0msigma\u001b[0m\u001b[1;33m,\u001b[0m \u001b[0morder\u001b[0m\u001b[1;33m,\u001b[0m \u001b[0mmode\u001b[0m \u001b[1;32min\u001b[0m \u001b[0maxes\u001b[0m\u001b[1;33m:\u001b[0m\u001b[1;33m\u001b[0m\u001b[1;33m\u001b[0m\u001b[0m\n\u001b[1;32m--> 298\u001b[1;33m             gaussian_filter1d(input, sigma, axis, order, output,\n\u001b[0m\u001b[0;32m    299\u001b[0m                               mode, cval, truncate)\n\u001b[0;32m    300\u001b[0m             \u001b[0minput\u001b[0m \u001b[1;33m=\u001b[0m \u001b[0moutput\u001b[0m\u001b[1;33m\u001b[0m\u001b[1;33m\u001b[0m\u001b[0m\n",
      "\u001b[1;32m~\\AppData\\Local\\Programs\\Python\\Python38\\lib\\site-packages\\scipy\\ndimage\\filters.py\u001b[0m in \u001b[0;36mgaussian_filter1d\u001b[1;34m(input, sigma, axis, order, output, mode, cval, truncate)\u001b[0m\n\u001b[0;32m    215\u001b[0m     \u001b[1;31m# Since we are calling correlate, not convolve, revert the kernel\u001b[0m\u001b[1;33m\u001b[0m\u001b[1;33m\u001b[0m\u001b[1;33m\u001b[0m\u001b[0m\n\u001b[0;32m    216\u001b[0m     \u001b[0mweights\u001b[0m \u001b[1;33m=\u001b[0m \u001b[0m_gaussian_kernel1d\u001b[0m\u001b[1;33m(\u001b[0m\u001b[0msigma\u001b[0m\u001b[1;33m,\u001b[0m \u001b[0morder\u001b[0m\u001b[1;33m,\u001b[0m \u001b[0mlw\u001b[0m\u001b[1;33m)\u001b[0m\u001b[1;33m[\u001b[0m\u001b[1;33m:\u001b[0m\u001b[1;33m:\u001b[0m\u001b[1;33m-\u001b[0m\u001b[1;36m1\u001b[0m\u001b[1;33m]\u001b[0m\u001b[1;33m\u001b[0m\u001b[1;33m\u001b[0m\u001b[0m\n\u001b[1;32m--> 217\u001b[1;33m     \u001b[1;32mreturn\u001b[0m \u001b[0mcorrelate1d\u001b[0m\u001b[1;33m(\u001b[0m\u001b[0minput\u001b[0m\u001b[1;33m,\u001b[0m \u001b[0mweights\u001b[0m\u001b[1;33m,\u001b[0m \u001b[0maxis\u001b[0m\u001b[1;33m,\u001b[0m \u001b[0moutput\u001b[0m\u001b[1;33m,\u001b[0m \u001b[0mmode\u001b[0m\u001b[1;33m,\u001b[0m \u001b[0mcval\u001b[0m\u001b[1;33m,\u001b[0m \u001b[1;36m0\u001b[0m\u001b[1;33m)\u001b[0m\u001b[1;33m\u001b[0m\u001b[1;33m\u001b[0m\u001b[0m\n\u001b[0m\u001b[0;32m    218\u001b[0m \u001b[1;33m\u001b[0m\u001b[0m\n\u001b[0;32m    219\u001b[0m \u001b[1;33m\u001b[0m\u001b[0m\n",
      "\u001b[1;32m~\\AppData\\Local\\Programs\\Python\\Python38\\lib\\site-packages\\scipy\\ndimage\\filters.py\u001b[0m in \u001b[0;36mcorrelate1d\u001b[1;34m(input, weights, axis, output, mode, cval, origin)\u001b[0m\n\u001b[0;32m     92\u001b[0m                          '(len(weights)-1) // 2')\n\u001b[0;32m     93\u001b[0m     \u001b[0mmode\u001b[0m \u001b[1;33m=\u001b[0m \u001b[0m_ni_support\u001b[0m\u001b[1;33m.\u001b[0m\u001b[0m_extend_mode_to_code\u001b[0m\u001b[1;33m(\u001b[0m\u001b[0mmode\u001b[0m\u001b[1;33m)\u001b[0m\u001b[1;33m\u001b[0m\u001b[1;33m\u001b[0m\u001b[0m\n\u001b[1;32m---> 94\u001b[1;33m     _nd_image.correlate1d(input, weights, axis, output, mode, cval,\n\u001b[0m\u001b[0;32m     95\u001b[0m                           origin)\n\u001b[0;32m     96\u001b[0m     \u001b[1;32mreturn\u001b[0m \u001b[0moutput\u001b[0m\u001b[1;33m\u001b[0m\u001b[1;33m\u001b[0m\u001b[0m\n",
      "\u001b[1;31mKeyboardInterrupt\u001b[0m: "
     ]
    }
   ],
   "source": [
    "torch.cuda.empty_cache()\n",
    "model.train()\n",
    "\n",
    "for epoch in tqdm(range(NUM_EPOCHS), desc = \"EPOCH\"):\n",
    "    average_loss = 0\n",
    "    for mini_batch in tqdm(MINI_BATCHES, leave = False, desc = \"MINI BATCH\"):\n",
    "        heatmaps = []\n",
    "        imgs = []\n",
    "\n",
    "        for img_name in mini_batch:\n",
    "            heatmaps.append(create_heatmaps(train_labels.loc[train_labels[\"ID\"] == img_name[:-4]].to_numpy()))\n",
    "            img = plt.imread(TRAIN_IMGS_PATH + img_name)\n",
    "\n",
    "            if (len(img.shape) == 2):\n",
    "                img = grey_to_rgb(img)\n",
    "            \n",
    "            imgs.append(img)\n",
    "        \n",
    "        heatmaps = torch.FloatTensor(heatmaps).to(device)\n",
    "        imgs = (torch.from_numpy(np.array(imgs)).permute(0, 3, 1, 2)).to(device)\n",
    "\n",
    "        #predictions = torch.tensor(model(imgs), requires_grad = True)[0, :, :, :, :] # Removing unnecessary extra dimension\n",
    "        predictions = model(imgs)\n",
    "\n",
    "        optimizer.zero_grad()\n",
    "\n",
    "        loss = criterion(predictions.to(device), heatmaps)\n",
    "        print(loss)\n",
    "\n",
    "        average_loss += loss/MINI_BATCH_SIZE\n",
    "\n",
    "        loss.backward()\n",
    "        optimizer.step()\n",
    "\n",
    "    print(\"average loss of epoch {}: {}\".format(epoch, average_loss))\n",
    "\n",
    "    break\n",
    "        \n"
   ]
  },
  {
   "cell_type": "code",
   "execution_count": null,
   "metadata": {},
   "outputs": [],
   "source": []
  }
 ]
}