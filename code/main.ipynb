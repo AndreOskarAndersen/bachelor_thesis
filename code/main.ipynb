{
 "metadata": {
  "language_info": {
   "codemirror_mode": {
    "name": "ipython",
    "version": 3
   },
   "file_extension": ".py",
   "mimetype": "text/x-python",
   "name": "python",
   "nbconvert_exporter": "python",
   "pygments_lexer": "ipython3",
   "version": "3.8.2-final"
  },
  "orig_nbformat": 2,
  "kernelspec": {
   "name": "python3",
   "display_name": "Python 3.8.2 64-bit",
   "metadata": {
    "interpreter": {
     "hash": "15b452054a1f37423623dc03587790452578e39807b086c75f037ab8f1c9c424"
    }
   }
  }
 },
 "nbformat": 4,
 "nbformat_minor": 2,
 "cells": [
  {
   "cell_type": "code",
   "execution_count": 1,
   "metadata": {},
   "outputs": [],
   "source": [
    "import numpy as np\n",
    "import pandas as pd\n",
    "import matplotlib.pyplot as plt\n",
    "import os\n",
    "import torch\n",
    "import torch.nn as nn\n",
    "import torch.nn.functional as F\n",
    "import torch.cuda\n",
    "import torch.optim as optim\n",
    "import torchvision.transforms.functional as TF\n",
    "import torchvision.transforms as transforms\n",
    "import time\n",
    "import re\n",
    "from PIL import Image\n",
    "from tqdm.notebook import tqdm\n",
    "from torch.nn.functional import relu\n",
    "from torch.utils.data import DataLoader, Dataset\n",
    "from torchsummary import summary\n",
    "from sklearn.utils import shuffle\n",
    "from SHG import SHG\n",
    "from utils import *"
   ]
  },
  {
   "cell_type": "code",
   "execution_count": 2,
   "metadata": {},
   "outputs": [],
   "source": [
    "\"\"\" PATHS FOR DATA\"\"\"\n",
    "\n",
    "# Input images\n",
    "TRAIN_IMGS_PATH = \"C:/Users/André/OneDrive 2/OneDrive/Skrivebord/bsc_data/train/image/\"\n",
    "VAL_IMGS_PATH = \"C:/Users/André/OneDrive 2/OneDrive/Skrivebord/bsc_data/validation/image/\"\n",
    "\n",
    "# Ground truth heatmaps\n",
    "TRAIN_HEATMAPS_PATH = \"C:/Users/André/OneDrive 2/OneDrive/Skrivebord/bsc_data/train/heatmaps/\"\n",
    "VAL_HEATMAPS_PATH = \"C:/Users/André/OneDrive 2/OneDrive/Skrivebord/bsc_data/validation\\heatmaps/\""
   ]
  },
  {
   "cell_type": "code",
   "execution_count": 9,
   "metadata": {
    "tags": []
   },
   "outputs": [
    {
     "output_type": "stream",
     "name": "stdout",
     "text": [
      "Device: cuda\n"
     ]
    }
   ],
   "source": [
    "SAVED_MODEL_PATH = \"C:/Users/André/OneDrive 2/OneDrive/Skrivebord/bsc_data/models/Wed_Mar_24_15-27-01_2021/epoch_0.pth\"\n",
    "cur_model_path = None\n",
    "start_epoch = 0\n",
    "train_loss = np.array([])\n",
    "val_loss = np.array([])\n",
    "scheduler = None\n",
    "\n",
    "# Read the mean rgb if it has been calculated previously\n",
    "try:\n",
    "    average_rgb = np.loadtxt(\"./average_rgb.npy\")\n",
    "except:\n",
    "    average_rgb = get_mean_rgb(TRAIN_IMGS_PATH)\n",
    "    np.savetxt(\"./average_rgb.npy\", average_rgb)\n",
    "\n",
    "device = torch.device(\"cuda\" if torch.cuda.is_available() else \"cpu\")\n",
    "print(\"Device:\", device)\n",
    "\n",
    "# Define model\n",
    "model = SHG(num_hourglasses=1).to(device)\n",
    "\n",
    "# If we decide to use a saved model\n",
    "if SAVED_MODEL_PATH is not None:\n",
    "    model.load_state_dict(torch.load(SAVED_MODEL_PATH)) # loads the model\n",
    "    start_epoch = int(re.findall(\"(?<=epoch_)(.*)(?=.pth)\", SAVED_MODEL_PATH)[0]) + 1 # finds the starting epoch\n",
    "    cur_model_path = re.findall(\"^(.*)(?=epoch)\", SAVED_MODEL_PATH)[0] # finds the directory of the saved model\n",
    "    train_loss = np.load(cur_model_path + \"/loss.npy\") # loads the average training loss\n",
    "    val_loss = np.load(cur_model_path + \"/val_loss.npy\") # loads the validation loss\n",
    "    scheduler = torch.load(cur_model_path + \"scheduler.pth\")"
   ]
  },
  {
   "cell_type": "code",
   "execution_count": 10,
   "metadata": {},
   "outputs": [],
   "source": [
    "if (cur_model_path is None): # if we do not use a saved model\n",
    "    cur_model_path = \"C:/Users/André/OneDrive 2/OneDrive/Skrivebord/bsc_data/models/\" + time.asctime().replace(\" \", \"_\").replace(\":\", \"-\")\n",
    "    os.mkdir(cur_model_path)\n",
    "    print(\"Created direction at\", cur_model_path)"
   ]
  },
  {
   "cell_type": "code",
   "execution_count": 11,
   "metadata": {},
   "outputs": [],
   "source": [
    "class dataset(Dataset):\n",
    "    def __init__(self, X_path, y_path, average_rgb):\n",
    "        self.X_path = X_path\n",
    "        self.y_path = y_path\n",
    "        self.X_data = os.listdir(self.X_path)\n",
    "        self.average_rgb = average_rgb\n",
    "        self.norm = transforms.Normalize(mean = self.average_rgb, std = [1, 1, 1])\n",
    "\n",
    "    def __len__(self):\n",
    "        return len(self.X_data)\n",
    "\n",
    "    def __getitem__(self, i):\n",
    "        ID = self.X_data[i]\n",
    "        x = Image.open(self.X_path + ID)\n",
    "\n",
    "        y = []\n",
    "        for heatmap in os.listdir(self.y_path + ID[:-4]):\n",
    "            y.append(torch.from_numpy(np.load(self.y_path + ID[:-4] + \"/\" + heatmap)))\n",
    "\n",
    "        x = TF.to_tensor(x)\n",
    "\n",
    "        if (x.shape[0] == 1): # If the image is gray-scale, cast it to rgb\n",
    "            x = torch.stack((x[0],) * 3)\n",
    "\n",
    "        x = self.norm(x) # Subtracts mean rgb\n",
    "\n",
    "        y = torch.stack(y)\n",
    "        return x, y\n",
    "\n",
    "train_data = dataset(TRAIN_IMGS_PATH, TRAIN_HEATMAPS_PATH, average_rgb)\n",
    "val_data = dataset(VAL_IMGS_PATH, VAL_HEATMAPS_PATH, average_rgb)"
   ]
  },
  {
   "cell_type": "code",
   "execution_count": 12,
   "metadata": {},
   "outputs": [],
   "source": [
    "LEARNING_RATE = 2.5e-4\n",
    "NUM_EPOCHS = 100\n",
    "MINI_BATCH_SIZE = 16\n",
    "\n",
    "criterion = nn.MSELoss()\n",
    "optimizer = optim.RMSprop(model.parameters(), lr = LEARNING_RATE)\n",
    "if (scheduler is None):\n",
    "    scheduler = optim.lr_scheduler.ReduceLROnPlateau(optimizer, factor = 0.2, patience=2, verbose=True)\n",
    "\n",
    "train_dataloader = DataLoader(train_data, batch_size = MINI_BATCH_SIZE, shuffle = True)\n",
    "val_dataloader = DataLoader(val_data, batch_size = 1)"
   ]
  },
  {
   "cell_type": "code",
   "execution_count": 13,
   "metadata": {},
   "outputs": [
    {
     "output_type": "display_data",
     "data": {
      "text/plain": "HBox(children=(FloatProgress(value=0.0, description='EPOCH', max=99.0, style=ProgressStyle(description_width='…",
      "application/vnd.jupyter.widget-view+json": {
       "version_major": 2,
       "version_minor": 0,
       "model_id": "76c6d5890ba14c4cb4b80b83564886b7"
      }
     },
     "metadata": {}
    },
    {
     "output_type": "display_data",
     "data": {
      "text/plain": "HBox(children=(FloatProgress(value=0.0, description='MINI BATCH', max=7394.0, style=ProgressStyle(description_…",
      "application/vnd.jupyter.widget-view+json": {
       "version_major": 2,
       "version_minor": 0,
       "model_id": "14d7582d9ea94d06858590a8ebe20755"
      }
     },
     "metadata": {}
    },
    {
     "output_type": "stream",
     "name": "stdout",
     "text": [
      "Average train loss of epoch 1: 8.40267806122319e-06\n"
     ]
    },
    {
     "output_type": "display_data",
     "data": {
      "text/plain": "HBox(children=(FloatProgress(value=0.0, description='VALIDATION', max=5064.0, style=ProgressStyle(description_…",
      "application/vnd.jupyter.widget-view+json": {
       "version_major": 2,
       "version_minor": 0,
       "model_id": "271abc4cbfb84b08a34e20fae359cfd9"
      }
     },
     "metadata": {}
    },
    {
     "output_type": "stream",
     "name": "stdout",
     "text": [
      "Validation loss at epoch 1: 5.780111503067433e-06\n"
     ]
    },
    {
     "output_type": "display_data",
     "data": {
      "text/plain": "HBox(children=(FloatProgress(value=0.0, description='MINI BATCH', max=7394.0, style=ProgressStyle(description_…",
      "application/vnd.jupyter.widget-view+json": {
       "version_major": 2,
       "version_minor": 0,
       "model_id": "c29e15948ff140ccaa426d4ed24e2b7d"
      }
     },
     "metadata": {}
    },
    {
     "output_type": "stream",
     "name": "stdout",
     "text": [
      "Average train loss of epoch 2: 5.891555685059114e-06\n"
     ]
    },
    {
     "output_type": "display_data",
     "data": {
      "text/plain": "HBox(children=(FloatProgress(value=0.0, description='VALIDATION', max=5064.0, style=ProgressStyle(description_…",
      "application/vnd.jupyter.widget-view+json": {
       "version_major": 2,
       "version_minor": 0,
       "model_id": "b2a1054b1de04efbabb961ef034469f6"
      }
     },
     "metadata": {}
    },
    {
     "output_type": "stream",
     "name": "stdout",
     "text": [
      "Validation loss at epoch 2: 7.287495846922344e-06\n"
     ]
    },
    {
     "output_type": "display_data",
     "data": {
      "text/plain": "HBox(children=(FloatProgress(value=0.0, description='MINI BATCH', max=7394.0, style=ProgressStyle(description_…",
      "application/vnd.jupyter.widget-view+json": {
       "version_major": 2,
       "version_minor": 0,
       "model_id": "9f2796a2c75b4f10a24f0de90b89ac1c"
      }
     },
     "metadata": {}
    },
    {
     "output_type": "stream",
     "name": "stdout",
     "text": [
      "Average train loss of epoch 3: 4.86096452049718e-06\n"
     ]
    },
    {
     "output_type": "display_data",
     "data": {
      "text/plain": "HBox(children=(FloatProgress(value=0.0, description='VALIDATION', max=5064.0, style=ProgressStyle(description_…",
      "application/vnd.jupyter.widget-view+json": {
       "version_major": 2,
       "version_minor": 0,
       "model_id": "6b2c05eb29f54cabb1b4252c9336a49e"
      }
     },
     "metadata": {}
    },
    {
     "output_type": "stream",
     "name": "stdout",
     "text": [
      "Validation loss at epoch 3: 4.084584529423761e-06\n"
     ]
    },
    {
     "output_type": "display_data",
     "data": {
      "text/plain": "HBox(children=(FloatProgress(value=0.0, description='MINI BATCH', max=7394.0, style=ProgressStyle(description_…",
      "application/vnd.jupyter.widget-view+json": {
       "version_major": 2,
       "version_minor": 0,
       "model_id": "b427650325164141a068ed3a9dffe8b7"
      }
     },
     "metadata": {}
    },
    {
     "output_type": "stream",
     "name": "stdout",
     "text": [
      "Average train loss of epoch 4: 4.273288074222126e-06\n"
     ]
    },
    {
     "output_type": "display_data",
     "data": {
      "text/plain": "HBox(children=(FloatProgress(value=0.0, description='VALIDATION', max=5064.0, style=ProgressStyle(description_…",
      "application/vnd.jupyter.widget-view+json": {
       "version_major": 2,
       "version_minor": 0,
       "model_id": "0ec0bf1485614d8fa21e4bae3dd443ad"
      }
     },
     "metadata": {}
    },
    {
     "output_type": "stream",
     "name": "stdout",
     "text": [
      "Validation loss at epoch 4: 5.110260739832945e-06\n"
     ]
    },
    {
     "output_type": "display_data",
     "data": {
      "text/plain": "HBox(children=(FloatProgress(value=0.0, description='MINI BATCH', max=7394.0, style=ProgressStyle(description_…",
      "application/vnd.jupyter.widget-view+json": {
       "version_major": 2,
       "version_minor": 0,
       "model_id": "97a853f86ebe4994a8f5032b1c61f866"
      }
     },
     "metadata": {}
    },
    {
     "output_type": "stream",
     "name": "stdout",
     "text": [
      "Average train loss of epoch 5: 4.00880305640285e-06\n"
     ]
    },
    {
     "output_type": "display_data",
     "data": {
      "text/plain": "HBox(children=(FloatProgress(value=0.0, description='VALIDATION', max=5064.0, style=ProgressStyle(description_…",
      "application/vnd.jupyter.widget-view+json": {
       "version_major": 2,
       "version_minor": 0,
       "model_id": "3d42bb281b364ce78dc47cbcd3ee0b74"
      }
     },
     "metadata": {}
    },
    {
     "output_type": "stream",
     "name": "stdout",
     "text": [
      "Validation loss at epoch 5: 3.0270126332000992e-06\n"
     ]
    },
    {
     "output_type": "display_data",
     "data": {
      "text/plain": "HBox(children=(FloatProgress(value=0.0, description='MINI BATCH', max=7394.0, style=ProgressStyle(description_…",
      "application/vnd.jupyter.widget-view+json": {
       "version_major": 2,
       "version_minor": 0,
       "model_id": "dac68addec6c4937b6acca79aaf1e0bd"
      }
     },
     "metadata": {}
    },
    {
     "output_type": "stream",
     "name": "stdout",
     "text": [
      "Average train loss of epoch 6: 3.632546007835594e-06\n"
     ]
    },
    {
     "output_type": "display_data",
     "data": {
      "text/plain": "HBox(children=(FloatProgress(value=0.0, description='VALIDATION', max=5064.0, style=ProgressStyle(description_…",
      "application/vnd.jupyter.widget-view+json": {
       "version_major": 2,
       "version_minor": 0,
       "model_id": "78f81aa4255f4255b6d1458376c59504"
      }
     },
     "metadata": {}
    },
    {
     "output_type": "stream",
     "name": "stdout",
     "text": [
      "Validation loss at epoch 6: 2.666389273838143e-06\n"
     ]
    },
    {
     "output_type": "display_data",
     "data": {
      "text/plain": "HBox(children=(FloatProgress(value=0.0, description='MINI BATCH', max=7394.0, style=ProgressStyle(description_…",
      "application/vnd.jupyter.widget-view+json": {
       "version_major": 2,
       "version_minor": 0,
       "model_id": "2002c175224b4f0ab59aee5e690e07c9"
      }
     },
     "metadata": {}
    },
    {
     "output_type": "stream",
     "name": "stdout",
     "text": [
      "Average train loss of epoch 7: 3.5863851185247565e-06\n"
     ]
    },
    {
     "output_type": "display_data",
     "data": {
      "text/plain": "HBox(children=(FloatProgress(value=0.0, description='VALIDATION', max=5064.0, style=ProgressStyle(description_…",
      "application/vnd.jupyter.widget-view+json": {
       "version_major": 2,
       "version_minor": 0,
       "model_id": "35848f057d2b473db3e02df55a995cc9"
      }
     },
     "metadata": {}
    },
    {
     "output_type": "stream",
     "name": "stdout",
     "text": [
      "Validation loss at epoch 7: 2.4834426275447006e-06\n"
     ]
    },
    {
     "output_type": "display_data",
     "data": {
      "text/plain": "HBox(children=(FloatProgress(value=0.0, description='MINI BATCH', max=7394.0, style=ProgressStyle(description_…",
      "application/vnd.jupyter.widget-view+json": {
       "version_major": 2,
       "version_minor": 0,
       "model_id": "81693a36f1ef4df6bc6f47f09697f6ed"
      }
     },
     "metadata": {}
    },
    {
     "output_type": "stream",
     "name": "stdout",
     "text": [
      "\n"
     ]
    },
    {
     "output_type": "error",
     "ename": "KeyboardInterrupt",
     "evalue": "",
     "traceback": [
      "\u001b[1;31m---------------------------------------------------------------------------\u001b[0m",
      "\u001b[1;31mKeyboardInterrupt\u001b[0m                         Traceback (most recent call last)",
      "\u001b[1;32m<ipython-input-13-e56cbf7f7ff0>\u001b[0m in \u001b[0;36m<module>\u001b[1;34m\u001b[0m\n\u001b[0;32m     16\u001b[0m         \u001b[0mloss\u001b[0m \u001b[1;33m=\u001b[0m \u001b[0mcriterion\u001b[0m\u001b[1;33m(\u001b[0m\u001b[0mpredictions\u001b[0m\u001b[1;33m.\u001b[0m\u001b[0mto\u001b[0m\u001b[1;33m(\u001b[0m\u001b[0mdevice\u001b[0m\u001b[1;33m)\u001b[0m\u001b[1;33m,\u001b[0m \u001b[0my\u001b[0m\u001b[1;33m)\u001b[0m\u001b[1;33m\u001b[0m\u001b[1;33m\u001b[0m\u001b[0m\n\u001b[0;32m     17\u001b[0m \u001b[1;33m\u001b[0m\u001b[0m\n\u001b[1;32m---> 18\u001b[1;33m         \u001b[0mtrain_loss\u001b[0m\u001b[1;33m[\u001b[0m\u001b[1;33m-\u001b[0m\u001b[1;36m1\u001b[0m\u001b[1;33m]\u001b[0m \u001b[1;33m+=\u001b[0m \u001b[0mloss\u001b[0m\u001b[1;33m.\u001b[0m\u001b[0mitem\u001b[0m\u001b[1;33m(\u001b[0m\u001b[1;33m)\u001b[0m\u001b[1;33m\u001b[0m\u001b[1;33m\u001b[0m\u001b[0m\n\u001b[0m\u001b[0;32m     19\u001b[0m \u001b[1;33m\u001b[0m\u001b[0m\n\u001b[0;32m     20\u001b[0m         \u001b[0mloss\u001b[0m\u001b[1;33m.\u001b[0m\u001b[0mbackward\u001b[0m\u001b[1;33m(\u001b[0m\u001b[1;33m)\u001b[0m\u001b[1;33m\u001b[0m\u001b[1;33m\u001b[0m\u001b[0m\n",
      "\u001b[1;31mKeyboardInterrupt\u001b[0m: "
     ]
    }
   ],
   "source": [
    "# MANGLER AT SØRGE FOR, AT VÆGTENE IKKE STARTER MED AT VÆRE 0\n",
    "\n",
    "torch.cuda.empty_cache()\n",
    "\n",
    "for epoch in tqdm(range(start_epoch, NUM_EPOCHS), desc = \"EPOCH\"):\n",
    "    model.train()\n",
    "    train_loss = np.append(train_loss, 0)\n",
    "    for x, y in tqdm(train_dataloader, leave = False, desc = \"MINI BATCH\", total = len(train_dataloader)):\n",
    "        x = x.to(device, dtype = torch.float)\n",
    "        y = y.to(device, dtype = torch.float)\n",
    "\n",
    "        # Predict\n",
    "        predictions = model(x)\n",
    "\n",
    "        # Backpropegation\n",
    "        optimizer.zero_grad()\n",
    "\n",
    "        loss = criterion(predictions.to(device), y)\n",
    "\n",
    "        train_loss[-1] += loss.item()\n",
    "\n",
    "        loss.backward()\n",
    "        optimizer.step()\n",
    "    \n",
    "    train_loss[-1] /= len(train_dataloader)\n",
    "    \n",
    "    print(\"Average train loss of epoch {}: {}\".format(epoch, train_loss[-1]))\n",
    "\n",
    "    # Validation\n",
    "    with torch.no_grad():\n",
    "        model.eval()\n",
    "        val_loss = np.append(val_loss, 0)\n",
    "        for x, y in tqdm(val_dataloader, leave = False, desc = \"VALIDATION\", total = len(val_dataloader)):\n",
    "            x = x.to(device, dtype = torch.float)\n",
    "            y = y.to(device, dtype = torch.float)\n",
    "\n",
    "            # Predict\n",
    "            predictions = model(x)\n",
    "\n",
    "            # Loss\n",
    "            loss = criterion(predictions.to(device), y)\n",
    "\n",
    "            # Saving loss\n",
    "            val_loss[-1] += loss.item()\n",
    "\n",
    "        val_loss[-1] /= len(val_dataloader)\n",
    "\n",
    "    print(\"Validation loss at epoch {}: {}\".format(epoch, val_loss[-1]))\n",
    "\n",
    "    # Saving model\n",
    "    torch.save(model.state_dict(), cur_model_path + \"/epoch_{}\".format(epoch) + \".pth\")\n",
    "\n",
    "    # Saving training loss\n",
    "    np.save(cur_model_path + \"/loss.npy\", train_loss)\n",
    "\n",
    "    # Saving validation loss\n",
    "    np.save(cur_model_path + \"/val_loss.npy\", val_loss)\n",
    "\n",
    "    # Scheduler\n",
    "    scheduler.step(val_loss[-1])"
   ]
  },
  {
   "cell_type": "code",
   "execution_count": 19,
   "metadata": {},
   "outputs": [],
   "source": [
    "# Saving scheduler\n",
    "torch.save(scheduler, cur_model_path + \"scheduler.pth\")"
   ]
  },
  {
   "cell_type": "code",
   "execution_count": null,
   "metadata": {},
   "outputs": [],
   "source": []
  }
 ]
}