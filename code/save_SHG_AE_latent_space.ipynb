{
 "metadata": {
  "language_info": {
   "codemirror_mode": {
    "name": "ipython",
    "version": 3
   },
   "file_extension": ".py",
   "mimetype": "text/x-python",
   "name": "python",
   "nbconvert_exporter": "python",
   "pygments_lexer": "ipython3",
   "version": "3.8.2"
  },
  "orig_nbformat": 2,
  "kernelspec": {
   "name": "python382jvsc74a57bd015b452054a1f37423623dc03587790452578e39807b086c75f037ab8f1c9c424",
   "display_name": "Python 3.8.2 64-bit"
  }
 },
 "nbformat": 4,
 "nbformat_minor": 2,
 "cells": [
  {
   "cell_type": "code",
   "execution_count": 1,
   "metadata": {},
   "outputs": [],
   "source": [
    "import numpy as np\n",
    "import matplotlib.pyplot as plt\n",
    "import torch\n",
    "import torch.cuda\n",
    "import torchvision.transforms.functional as TF\n",
    "import torchvision.transforms as transforms\n",
    "import os\n",
    "from PIL import Image\n",
    "from tqdm.notebook import tqdm\n",
    "from torch.nn.functional import relu\n",
    "from torch.utils.data import DataLoader, Dataset\n",
    "from sklearn.manifold import TSNE\n",
    "from SHG import SHG\n",
    "from utils import *\n",
    "from matplotlib.offsetbox import OffsetImage, AnnotationBbox\n",
    "from sklearn.decomposition import PCA\n",
    "from sklearn.cluster import KMeans\n",
    "from sklearn.metrics import silhouette_score\n",
    "from sklearn.base import clone\n",
    "from sklearn_extra.cluster import KMedoids\n",
    "from AE import AE\n",
    "from SHG import SHG\n",
    "from SHG_AE import SHG_AE"
   ]
  },
  {
   "cell_type": "code",
   "execution_count": 2,
   "metadata": {},
   "outputs": [],
   "source": [
    "\"\"\" PATHS \"\"\"\n",
    "\n",
    "# MODEL\n",
    "MODEL_PATH = \"C:/Users/André/OneDrive 2/OneDrive/Skrivebord/bsc_data/SHG_AE/models/Wed_May_26_10-42-05_2021/epoch_15.pth\"\n",
    "\n",
    "# Input images\n",
    "TRAIN_IMGS_PATH = \"C:/Users/André/OneDrive 2/OneDrive/Skrivebord/bsc_data/train/image/\"\n",
    "\n",
    "# Ground truth heatmaps\n",
    "HEATMAPS_PATH = \"C:/Users/André/OneDrive 2/OneDrive/Skrivebord/bsc_data/train/heatmaps/\"\n",
    "\n",
    "# SAVING PATH\n",
    "ALL_SAVING_PATH = \"C:/Users/André/OneDrive 2/OneDrive/Skrivebord/bsc_data/SHG_AE/latent_space/all/\"\n",
    "FULL_SAVING_PATH = \"C:/Users/André/OneDrive 2/OneDrive/Skrivebord/bsc_data/SHG_AE/latent_space/full/\"\n",
    "\n",
    "# Path for mean rgb\n",
    "average_rgb = np.loadtxt(\"./average_rgb.npy\")"
   ]
  },
  {
   "cell_type": "code",
   "execution_count": 3,
   "metadata": {},
   "outputs": [],
   "source": [
    "\"\"\" DATASET AND DATALOADER \"\"\"\n",
    "\n",
    "class dataset(Dataset):\n",
    "    def __init__(self, X_path, y_path, average_rgb):\n",
    "        self.X_path = X_path\n",
    "        self.y_path = y_path\n",
    "        self.X_data = os.listdir(self.X_path)\n",
    "        self.average_rgb = average_rgb\n",
    "        self.norm = transforms.Normalize(mean = self.average_rgb, std = [1, 1, 1])\n",
    "\n",
    "    def __len__(self):\n",
    "        return len(self.X_data)\n",
    "\n",
    "    def __getitem__(self, i):\n",
    "        ID = self.X_data[i]\n",
    "        x = Image.open(self.X_path + ID)\n",
    "\n",
    "        y = []\n",
    "\n",
    "        for i in range(17):\n",
    "            y.append(torch.from_numpy(np.load(self.y_path + ID[:-4] + \"/\" + str(i) + \".npy\")))\n",
    "\n",
    "        x = TF.to_tensor(x)\n",
    "\n",
    "        if (x.shape[0] == 1): # If the image is gray-scale, cast it to rgb\n",
    "            x = torch.stack((x[0],) * 3)\n",
    "\n",
    "        x = self.norm(x) # Subtracts mean rgb\n",
    "\n",
    "        y = torch.stack(y)\n",
    "        return x, y, ID\n",
    "\n",
    "train_data = dataset(TRAIN_IMGS_PATH, HEATMAPS_PATH, average_rgb)\n",
    "train_dataloader = DataLoader(train_data, batch_size = 1, shuffle = True)"
   ]
  },
  {
   "cell_type": "code",
   "execution_count": 4,
   "metadata": {},
   "outputs": [
    {
     "output_type": "stream",
     "name": "stdout",
     "text": [
      "\n"
     ]
    }
   ],
   "source": [
    "device = torch.device(\"cuda\" if torch.cuda.is_available() else \"cpu\")\n",
    "\n",
    "SHG_model = SHG(num_hourglasses = 1).to(device)\n",
    "AE_model = AE().to(device)\n",
    "model = SHG_AE(SHG_model, AE_model).to(device)\n",
    "model.load_state_dict(torch.load(MODEL_PATH))\n",
    "model.eval()\n",
    "print()"
   ]
  },
  {
   "cell_type": "code",
   "execution_count": 5,
   "metadata": {},
   "outputs": [
    {
     "output_type": "display_data",
     "data": {
      "text/plain": "HBox(children=(FloatProgress(value=0.0, max=124040.0), HTML(value='')))",
      "application/vnd.jupyter.widget-view+json": {
       "version_major": 2,
       "version_minor": 0,
       "model_id": "860915a4353e412eb5cfbbe13190c333"
      }
     },
     "metadata": {}
    },
    {
     "output_type": "stream",
     "name": "stdout",
     "text": [
      "\n"
     ]
    }
   ],
   "source": [
    "\"\"\" Saving bottleneck data - train\"\"\"\n",
    " \n",
    "with torch.no_grad():\n",
    "    for x, y, id_ in tqdm(train_dataloader):\n",
    "        x = x.to(device, dtype = torch.float)\n",
    "\n",
    "        x_latent = model.encode(model.SHG_prework(x), add_noise = False).cpu().data.numpy()\n",
    "        \n",
    "        np.save(ALL_SAVING_PATH + id_[0][:-4] + \".npy\", x_latent)\n",
    "\n",
    "        y = np.array(turn_featuremaps_to_keypoints(y)).reshape((-1, 3))\n",
    "        if (0 not in y[:, -1]):\n",
    "            np.save(FULL_SAVING_PATH + id_[0][:-4] + \".npy\", x_latent)"
   ]
  },
  {
   "cell_type": "code",
   "execution_count": null,
   "metadata": {},
   "outputs": [],
   "source": []
  },
  {
   "cell_type": "code",
   "execution_count": null,
   "metadata": {},
   "outputs": [],
   "source": []
  }
 ]
}